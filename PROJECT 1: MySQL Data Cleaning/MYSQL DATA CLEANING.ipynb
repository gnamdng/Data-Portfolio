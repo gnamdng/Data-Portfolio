{
 "cells": [
  {
   "cell_type": "markdown",
   "id": "3a90a71e-e689-4cea-aa19-cbfffa3cba7e",
   "metadata": {},
   "source": [
    "# PROJET 1 : MYSQL DATA CLEANING"
   ]
  },
  {
   "cell_type": "markdown",
   "id": "67ac6218-a80d-47b3-803c-b834a80e42c0",
   "metadata": {},
   "source": [
    "## Introduction"
   ]
  },
  {
   "cell_type": "markdown",
   "id": "a602e2a1-1872-4ee2-8bd1-8cf5d54d7e83",
   "metadata": {},
   "source": [
    "Ce premier projet porte sur le nettoyage de données d'un dataset téléchargé directement sur kaggle.com\n",
    "Ce document traite sur les licenciements réalisées sur différentes entreprises axé dans le domaine de la technologie, et qui a connu un déclin d'emplois sur la période COVID19 à 2022."
   ]
  },
  {
   "cell_type": "markdown",
   "id": "3dfe2187-65ee-4711-8262-624675fc7dc0",
   "metadata": {},
   "source": [
    "### Etapes"
   ]
  },
  {
   "cell_type": "markdown",
   "id": "0ce56316-d51d-4278-999b-37fd618613f4",
   "metadata": {},
   "source": [
    "Lien du dataset: https://www.kaggle.com/datasets/swaptr/layoffs-2022/data"
   ]
  },
  {
   "cell_type": "markdown",
   "id": "55516665-a4b2-4b8e-9037-801569a984d5",
   "metadata": {},
   "source": [
    "#### Importation du fichier"
   ]
  },
  {
   "cell_type": "markdown",
   "id": "8aab7bf1-40a2-4228-99ef-f76489ad2a72",
   "metadata": {},
   "source": [
    "La première étape de ce projet est d'importer ce dataset dans MYSQL.\n",
    "Pour cela, on crée une database que l'on nomme par exemple \"world_layoffs\" puis on réalise une table que l'on nomme \"layoffs\" ou \"licenciements\". Sur cette table, on réalise un clic droit puis on clique sur \"Table Data Import Wizard\".\n",
    "A ce moment là on peut donc choisir notre fichier au format CSV. \n",
    "On peut également choisir le format de chaque colonnes mais pour ce projet, on modifiera tout cela par la suite"
   ]
  },
  {
   "cell_type": "markdown",
   "id": "cbe8a901-2147-4c72-8486-bd4f4a4a69fa",
   "metadata": {},
   "source": [
    "#### Premier affichage"
   ]
  },
  {
   "cell_type": "code",
   "execution_count": null,
   "id": "65299041-4487-44cd-9e77-9ba66d9c2b7f",
   "metadata": {},
   "outputs": [],
   "source": [
    "SELECT * \n",
    "FROM layoffs;"
   ]
  },
  {
   "cell_type": "markdown",
   "id": "a1669b6e-3d77-4215-88c9-c7ad8d855a4c",
   "metadata": {},
   "source": [
    "#### Quelles étapes ?"
   ]
  },
  {
   "cell_type": "markdown",
   "id": "651a1e3a-0747-411e-8b30-55d014bb0b7c",
   "metadata": {},
   "source": [
    "Pour réaliser ce Data Cleaning on va se focaliser sur différentes étapes à suivre.\n",
    "- Créer une seconde copie de la table en cas d'erreurs que l'on nomme \"layoffs_test\"\n",
    "- Nous devons d'abord vérifier s'il n'y pas de duplicates ou doublons.\n",
    "- Standardiser les données, pour éviter toutes erreurs par la suite.\n",
    "- Supprimer les colonnes et lignes inutiles.\n"
   ]
  },
  {
   "cell_type": "markdown",
   "id": "14c027ea-d4b9-4af0-affb-ee6ddb7de19d",
   "metadata": {},
   "source": [
    "#### Supprimer les doublons"
   ]
  },
  {
   "cell_type": "code",
   "execution_count": null,
   "id": "bb4e928a-bc96-4995-b280-c0d3b4a49ec1",
   "metadata": {},
   "outputs": [],
   "source": [
    "# Création d'une seconde table layoffs_test \"copie\" de layoffs.\n",
    "\n",
    "SELECT *\n",
    "FROM layoffs;\n",
    "\n",
    "CREATE TABLE world_layoffs.layoffs_test\n",
    "LIKE world_layoffs.layoffs;\n",
    "\n",
    "INSERT layoffs_test\n",
    "SELECT * FROM world_layoffs.layoffs;\n",
    "\n",
    "SELECT * \n",
    "FROM layoffs_test"
   ]
  },
  {
   "cell_type": "code",
   "execution_count": null,
   "id": "dafb1753-f748-4d53-b27a-cb93299bc6e6",
   "metadata": {},
   "outputs": [],
   "source": [
    "# Recherche de doublons/duplicates\n",
    "\n",
    "SELECT *, COUNT(*) AS count\n",
    "FROM world_layoffs.layoffs_test\n",
    "GROUP BY company, location, industry, total_laid_off, percentage_laid_off, date, stage, country, funds_raised\n",
    "HAVING COUNT(*) > 1;\n",
    "\n",
    "# Ce code permet de recherche dans toute la table, chaque colonne identique et compter le nombre de doublons.\n",
    "# Dans notre cas, nous trouvons un total de 2 doublons, 1 pour l'entreprise Cazoo et une autre pour l'entreprise Beyond Meat.\n",
    "\n",
    "# Il ne faut pas oublier qu'une ligne est considérée comme doublon lorsque TOUTES ses lignes sont identiques."
   ]
  },
  {
   "cell_type": "code",
   "execution_count": null,
   "id": "ffcaf1c1-cc6c-4e38-840b-fa4c8fff9ad2",
   "metadata": {},
   "outputs": [],
   "source": [
    "# Pour me repérer facilement, je crée une colonne id que j'incrémente de façon croissante.\n",
    "\n",
    "ALTER TABLE world_layoffs.layoffs_test\n",
    "ADD COLUMN id INT AUTO_INCREMENT PRIMARY KEY;"
   ]
  },
  {
   "cell_type": "code",
   "execution_count": null,
   "id": "5d424050-0538-42d5-bb45-2692a6604de6",
   "metadata": {},
   "outputs": [],
   "source": [
    "# Je crée une table temporaire d'id pour éviter les erreurs\n",
    "# Puis je supprime les ids liées aux doublons.\n",
    "\n",
    "CREATE TABLE temp_ids (id INT);\n",
    "INSERT INTO temp_ids (id)\n",
    "SELECT MIN(id)\n",
    "FROM world_layoffs.layoffs_test\n",
    "GROUP BY company, location, industry, total_laid_off, percentage_laid_off, `date`, stage, country, funds_raised\n",
    "HAVING COUNT(*) > 1;\n",
    "\n",
    "DELETE FROM world_layoffs.layoffs_test\n",
    "WHERE id IN (SELECT id FROM temp_ids);"
   ]
  },
  {
   "cell_type": "code",
   "execution_count": null,
   "id": "87ebb6cc-78cf-482f-bb58-e49548852548",
   "metadata": {},
   "outputs": [],
   "source": [
    "# Vérification des doublons des entreprises \"Cazoo\" et \"Beyond Meat\"\n",
    "\n",
    "SELECT * \n",
    "FROM layoffs_test\n",
    "WHERE company = \"Cazoo\";\n",
    "\n",
    "SELECT * \n",
    "FROM layoffs_test\n",
    "WHERE company = \"Beyond Meat\"; \n",
    "\n",
    "#Ces compagnies qui possédaient chacune 1 doublon n'en ont plus. Mais une ligne de \"null\" reste tout de même présente."
   ]
  },
  {
   "cell_type": "code",
   "execution_count": null,
   "id": "0c7021f0-892c-4432-9333-38ff86b189b8",
   "metadata": {},
   "outputs": [],
   "source": [
    "# On supprime la colonne id qui nous servait de repère pour la suppression des doublons.\n",
    "ALTER TABLE world_layoffs.layoffs_test\n",
    "DROP COLUMN id;\n"
   ]
  },
  {
   "cell_type": "code",
   "execution_count": null,
   "id": "34d27b72-d360-4319-a044-62ff1ad2b98a",
   "metadata": {},
   "outputs": [],
   "source": [
    "# On sait que le dataset possède obligatoirement un nom de compagnie, on se réfère à cette colonne pour la suppression de ligne null, et on rajoute\n",
    "# les autres colonnes.\n",
    "\n",
    "DELETE FROM world_layoffs.layoffs_test\n",
    "WHERE company IS NULL \n",
    "  AND location IS NULL \n",
    "  AND industry IS NULL \n",
    "  AND total_laid_off IS NULL \n",
    "  AND percentage_laid_off IS NULL \n",
    "  AND `date` IS NULL \n",
    "  AND stage IS NULL \n",
    "  AND country IS NULL \n",
    "  AND funds_raised IS NULL;\n",
    "\n",
    "# On vérifie à nouveau et c'est bon, les lignes \"Null\" sont supprimées.\n",
    "SELECT * \n",
    "FROM layoffs_test\n",
    "WHERE company = \"Cazoo\";\n",
    "\n",
    "SELECT * \n",
    "FROM layoffs_test\n",
    "WHERE company = \"Beyond Meat\";"
   ]
  },
  {
   "cell_type": "markdown",
   "id": "98a276c8-a058-4970-8650-e7e37bc873a6",
   "metadata": {},
   "source": [
    "#### Standardiser "
   ]
  },
  {
   "cell_type": "code",
   "execution_count": null,
   "id": "a66412f1-3e2e-4667-a7d5-d3d5e3fe00de",
   "metadata": {},
   "outputs": [],
   "source": [
    "# Je réalise une seconde copie de layoffs_test pour réaliser la standardisation.\n",
    "\n",
    "# Je commence par un TRIM du nom des compagnies pour éviter tous espaces non visibles qui peuvent se placer avant ou après le nom.\n",
    "\n",
    "SELECT *\n",
    "FROM world_layoffs.layoffs_test2;\n",
    "\n",
    "UPDATE world_layoffs.layoffs_test2\n",
    "SET company = TRIM(company);\n",
    "\n",
    "# Vérification compagnie : rien à signaler\n",
    "SELECT DISTINCT company\n",
    "FROM world_layoffs.layoffs_test2\n",
    "ORDER BY company;\n",
    "\n",
    "# Vérification industrie : une ligne non renseignée et une industrie renseigné en tant qu'URL.\n",
    "SELECT DISTINCT industry\n",
    "FROM world_layoffs.layoffs_test2\n",
    "ORDER BY industry;\n",
    "\n",
    "# Je vérifie s'il y a une ligne dont l'industrie commencent par https:\n",
    "\n",
    "UPDATE world_layoffs.layoffs_test2\n",
    "SET industry = 'N/A'\n",
    "WHERE industry LIKE 'https:%';\n",
    "\n",
    "SELECT *\n",
    "FROM world_layoffs.layoffs_test2\n",
    "WHERE company LIKE 'ebay';\n",
    "# Changement en N/A pour l'industrie eBay pour ne pas avoir une URL.\n",
    "\n",
    "# Vérification location : pas de problèmes, l'affiche est différent pour certains caractères mais pas de soucis pour ça\n",
    "# exemple : Fayetteville, Düsseldorf\n",
    "\n",
    "SELECT DISTINCT location\n",
    "FROM world_layoffs.layoffs_test2\n",
    "ORDER BY location;\n",
    "\n",
    "# Vérification country : rien à signaler\n",
    "SELECT DISTINCT country\n",
    "FROM world_layoffs.layoffs_test2\n",
    "ORDER BY country;\n",
    "\n"
   ]
  },
  {
   "cell_type": "markdown",
   "id": "c618516d-170c-4beb-9ebc-de0ffaea262f",
   "metadata": {},
   "source": [
    "#### Colonnes et lignes inutiles type NULL / BLANK"
   ]
  },
  {
   "cell_type": "code",
   "execution_count": null,
   "id": "94a63771-82ed-4dc5-8773-b8a131ccca20",
   "metadata": {},
   "outputs": [],
   "source": [
    "SELECT *\n",
    "FROM layoffs_test2;\n",
    "\n",
    "# Les colonnes/lignes vides et NULL se trouvent dans total_laid_off et percentage_laid_off.\n",
    "# Je modifie ces colonnes à STRING vide pour les transformer en BLANK.\n",
    "\n",
    "UPDATE world_layoffs.layoffs_test2\n",
    "SET total_laid_off = NULL\n",
    "WHERE total_laid_off = '';\n",
    "\n",
    "UPDATE world_layoffs.layoffs_test2\n",
    "SET percentage_laid_off = NULL\n",
    "WHERE percentage_laid_off = '';\n",
    "\n",
    "# Etant donné qu'on travaille sur des données de licenciement, si nous n'avons aucune informations sur ces deux colonnes alors elles nous sont inutiles.\n",
    "# On doit donc les supprimer\n",
    "\n",
    "DELETE FROM world_layoffs.layoffs_test2\n",
    "WHERE total_laid_off IS NULL\n",
    "AND percentage_laid_off IS NULL;\n",
    "\n",
    "SELECT * \n",
    "FROM world_layoffs.layoffs_test2;"
   ]
  },
  {
   "cell_type": "markdown",
   "id": "661a7b89-a912-4bef-8acc-fffcca3604fe",
   "metadata": {},
   "source": [
    "## Conclusion"
   ]
  },
  {
   "cell_type": "markdown",
   "id": "b30e01a5-4438-4e6a-a091-d8d43d517662",
   "metadata": {},
   "source": [
    "Ainsi se conclut ce projet de Data Cleaning via MySQL. Les données sont désormais utilisables à l'analyse de données.\n",
    "La question à se poser est : Quelles données nous seront utiles ?\n",
    "Il faut donc supprimer les colonnes/lignes inutiles, vérifier qu'il n'y ai pas d'erreurs sur celles-ci et apporter les modification nécessaires."
   ]
  }
 ],
 "metadata": {
  "kernelspec": {
   "display_name": "anaconda-panel-2023.05-py310",
   "language": "python",
   "name": "conda-env-anaconda-panel-2023.05-py310-py"
  },
  "language_info": {
   "codemirror_mode": {
    "name": "ipython",
    "version": 3
   },
   "file_extension": ".py",
   "mimetype": "text/x-python",
   "name": "python",
   "nbconvert_exporter": "python",
   "pygments_lexer": "ipython3",
   "version": "3.11.5"
  }
 },
 "nbformat": 4,
 "nbformat_minor": 5
}
