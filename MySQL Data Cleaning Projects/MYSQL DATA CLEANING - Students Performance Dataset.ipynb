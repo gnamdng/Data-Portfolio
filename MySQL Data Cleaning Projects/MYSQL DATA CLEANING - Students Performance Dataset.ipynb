{
 "cells": [
  {
   "cell_type": "markdown",
   "id": "7e807645-174f-4298-aa12-6c796ce47b00",
   "metadata": {},
   "source": [
    "# MYSQL DATA CLEANING - Students Performance Dataset"
   ]
  },
  {
   "cell_type": "code",
   "execution_count": 3,
   "id": "958b171c-ad89-4f0b-ba13-aa8d9a6df0dc",
   "metadata": {},
   "outputs": [
    {
     "name": "stdout",
     "output_type": "stream",
     "text": [
      "Path to dataset files: C:\\Users\\namdn\\.cache\\kagglehub\\datasets\\ilayaraja07\\data-cleaning-feature-imputation\\versions\\1\n"
     ]
    }
   ],
   "source": [
    "import kagglehub\n",
    "\n",
    "# Download latest version\n",
    "path = kagglehub.dataset_download(\"ilayaraja07/data-cleaning-feature-imputation\")\n",
    "\n",
    "print(\"Path to dataset files:\", path)"
   ]
  },
  {
   "cell_type": "code",
   "execution_count": 6,
   "id": "e8221404-f648-4558-8e03-de2e7ace1210",
   "metadata": {},
   "outputs": [],
   "source": [
    "import pandas as pd\n",
    "import os"
   ]
  },
  {
   "cell_type": "code",
   "execution_count": 7,
   "id": "09c668d8-a114-4768-8dc5-c84aa67a6fe4",
   "metadata": {},
   "outputs": [
    {
     "name": "stdout",
     "output_type": "stream",
     "text": [
      "Fichiers dans le dataset : ['Students_Performance_knn.csv', 'Students_Performance_mv.csv', 'Wine_Quality.csv']\n"
     ]
    }
   ],
   "source": [
    "files = os.listdir(path)\n",
    "print(\"Fichiers dans le dataset :\", files)"
   ]
  },
  {
   "cell_type": "markdown",
   "id": "daf46a1a-1afc-411c-9387-79378663ed9c",
   "metadata": {},
   "source": [
    "## Introduction"
   ]
  },
  {
   "cell_type": "markdown",
   "id": "ac703cc5-9c4c-4eca-9ef2-f1b3fa5b8abb",
   "metadata": {},
   "source": [
    "This project is focused on data cleaning/cleansing of a students performance dataset. The students performance is based on their marks and their parental level, lunch option (reduced, standard, free) and any test preparation."
   ]
  },
  {
   "cell_type": "markdown",
   "id": "e18b1002-890e-461f-a148-f117b5512f50",
   "metadata": {},
   "source": [
    "### Data Import"
   ]
  },
  {
   "cell_type": "markdown",
   "id": "09940336-44a0-4b8f-8a61-9201210e90ad",
   "metadata": {},
   "source": [
    "To import the dataset, we create a new database called students_performance with a table of the same name. Table Data Import Wizard, then select CSV file. The import is now successful and we don't change the columns format through the import as we are changing it directly on MySQL"
   ]
  },
  {
   "cell_type": "markdown",
   "id": "e603dceb-9310-480f-928a-968927eee72f",
   "metadata": {},
   "source": [
    "### First display of data"
   ]
  },
  {
   "cell_type": "code",
   "execution_count": null,
   "id": "0b6bb022-c5fc-488d-ba05-5072da92d1b7",
   "metadata": {},
   "outputs": [],
   "source": [
    "SELECT *\n",
    "FROM students_performance;"
   ]
  },
  {
   "cell_type": "markdown",
   "id": "f0dc816a-c3b1-48db-beac-b970db500e19",
   "metadata": {},
   "source": [
    "### Next steps ?\n",
    "\n",
    "Here are the steps for this data cleaning :\n",
    "- Creating a back-up copy of students_performance table called \"students_test\"\n",
    "- Verifying existing duplicates\n",
    "- Standardize the data\n",
    "- Delete useless rows and columns for EDA."
   ]
  },
  {
   "cell_type": "markdown",
   "id": "1eb94056-d3be-4f52-a501-7f4965c6bc67",
   "metadata": {},
   "source": [
    "### Creating back-up copy"
   ]
  },
  {
   "cell_type": "code",
   "execution_count": null,
   "id": "43ff9402-4ac2-4c13-9ae9-f4328cae3e4f",
   "metadata": {},
   "outputs": [],
   "source": [
    "SELECT * \n",
    "FROM students;\n",
    "\n",
    "CREATE TABLE student_performance.students_test\n",
    "LIKE student_performance.students;\n",
    "\n",
    "INSERT students_test\n",
    "SELECT * FROM student_performance.students;\n",
    "\n",
    "SELECT *\n",
    "FROM students_test;"
   ]
  },
  {
   "cell_type": "markdown",
   "id": "9909628c-328f-4537-b477-6e7a2a175258",
   "metadata": {},
   "source": [
    "### Duplicates"
   ]
  },
  {
   "cell_type": "code",
   "execution_count": null,
   "id": "a6a19d2d-1c54-4ac1-b185-27411d6a491c",
   "metadata": {},
   "outputs": [],
   "source": [
    "SELECT *, COUNT(*) AS count\n",
    "FROM student_performance.students_test\n",
    "GROUP BY gender, race_ethnicity, parental_education, lunch, test_prep, math_score, reading_score, writing_score\n",
    "HAVING COUNT(*) > 1;"
   ]
  },
  {
   "cell_type": "code",
   "execution_count": null,
   "id": "c9b8c1b6-ae78-45ed-aa7c-f39ec23e6bea",
   "metadata": {},
   "outputs": [],
   "source": [
    "No duplicates were found."
   ]
  },
  {
   "cell_type": "markdown",
   "id": "3ab9f149-1119-49eb-b7fe-0c1ff54a5310",
   "metadata": {},
   "source": [
    "### Standardization"
   ]
  },
  {
   "cell_type": "code",
   "execution_count": null,
   "id": "f545a358-07d3-42dc-b67a-13afe338aa4e",
   "metadata": {},
   "outputs": [],
   "source": [
    "SELECT *\n",
    "FROM student_performance.students_test\n",
    "WHERE lunch = '';\n",
    "\n",
    "SELECT *\n",
    "FROM student_performance.students_test\n",
    "WHERE writing_score is null;\n",
    "\n",
    "#Verifying if any columns contains null/blank values\n",
    "#Only the column \"lunch\" contains blank values but the rows associated with these blank values are still useful for EDAs."
   ]
  },
  {
   "cell_type": "code",
   "execution_count": null,
   "id": "6ce70d0a-9676-4638-9839-1bd0b379a7c6",
   "metadata": {},
   "outputs": [],
   "source": [
    "#Creating copy table named students_test2.\n",
    "\n",
    "SELECT *\n",
    "FROM student_performance.students_test2;\n",
    "\n",
    "UPDATE student_performance.students_test2\n",
    "SET gender = TRIM(gender);\n",
    "\n",
    "#Just in case, we trim all the columns to remove blank spaces that can be place at the beginning or at the end of the value.\n",
    "\n",
    "SELECT DISTINCT parental_education\n",
    "FROM student_performance.students_test\n",
    "ORDER BY parental_education;\n",
    "\n",
    "SELECT DISTINCT math_score\n",
    "FROM student_performance.students_test\n",
    "ORDER BY math_score;\n",
    "\n",
    "SELECT DISTINCT reading_score\n",
    "FROM student_performance.students_test\n",
    "ORDER BY reading_score;\n",
    "\n",
    "SELECT DISTINCT writing_score\n",
    "FROM student_performance.students_test\n",
    "ORDER BY writing_score;"
   ]
  }
 ],
 "metadata": {
  "kernelspec": {
   "display_name": "Python 3 (ipykernel)",
   "language": "python",
   "name": "python3"
  },
  "language_info": {
   "codemirror_mode": {
    "name": "ipython",
    "version": 3
   },
   "file_extension": ".py",
   "mimetype": "text/x-python",
   "name": "python",
   "nbconvert_exporter": "python",
   "pygments_lexer": "ipython3",
   "version": "3.11.9"
  }
 },
 "nbformat": 4,
 "nbformat_minor": 5
}
