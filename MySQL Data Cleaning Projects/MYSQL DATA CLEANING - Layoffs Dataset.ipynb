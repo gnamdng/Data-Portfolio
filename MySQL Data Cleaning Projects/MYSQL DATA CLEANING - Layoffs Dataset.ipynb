{
 "cells": [
  {
   "cell_type": "markdown",
   "id": "3a90a71e-e689-4cea-aa19-cbfffa3cba7e",
   "metadata": {},
   "source": [
    "# MYSQL DATA CLEANING - Layoffs Dataset"
   ]
  },
  {
   "cell_type": "markdown",
   "id": "67ac6218-a80d-47b3-803c-b834a80e42c0",
   "metadata": {},
   "source": [
    "## Introduction"
   ]
  },
  {
   "cell_type": "markdown",
   "id": "a602e2a1-1872-4ee2-8bd1-8cf5d54d7e83",
   "metadata": {},
   "source": [
    "This first project is about data cleaning/cleansing of a dataset downloaded directly from kaggle.com\n",
    "This document contains data of layoffs that happened during COVID19 to 2022 on tech companies."
   ]
  },
  {
   "cell_type": "markdown",
   "id": "0ce56316-d51d-4278-999b-37fd618613f4",
   "metadata": {},
   "source": [
    "Dataset link: https://www.kaggle.com/datasets/swaptr/layoffs-2022/data"
   ]
  },
  {
   "cell_type": "markdown",
   "id": "55516665-a4b2-4b8e-9037-801569a984d5",
   "metadata": {},
   "source": [
    "#### Data Import"
   ]
  },
  {
   "cell_type": "markdown",
   "id": "8aab7bf1-40a2-4228-99ef-f76489ad2a72",
   "metadata": {},
   "source": [
    "First step is to import the dataset into MySQL. \n",
    "We create a database called \"world_layoffs\" with a table \"layoffs\". Right click on the table open a window with an option below \"Table Data Import Wizard\". Afterwards, we can select our file in CSV format.\n",
    "In this option, we can choose to change columns format but we will modify them directly on MySQL using requests."
   ]
  },
  {
   "cell_type": "markdown",
   "id": "cbe8a901-2147-4c72-8486-bd4f4a4a69fa",
   "metadata": {},
   "source": [
    "#### First display of data"
   ]
  },
  {
   "cell_type": "code",
   "execution_count": null,
   "id": "65299041-4487-44cd-9e77-9ba66d9c2b7f",
   "metadata": {},
   "outputs": [],
   "source": [
    "SELECT * \n",
    "FROM layoffs;"
   ]
  },
  {
   "cell_type": "markdown",
   "id": "a1669b6e-3d77-4215-88c9-c7ad8d855a4c",
   "metadata": {},
   "source": [
    "#### Next steps ?"
   ]
  },
  {
   "cell_type": "markdown",
   "id": "651a1e3a-0747-411e-8b30-55d014bb0b7c",
   "metadata": {},
   "source": [
    "For this data cleaning project, we need to follow some steps:\n",
    "- Creating a copy of the layoffs table for backup in case errors are made, called \"layoffs_test\"\n",
    "- Verify existing duplicates\n",
    "- Standardize the data so it can be used efficiently with no errors.\n",
    "- Delete useless rows and columns."
   ]
  },
  {
   "cell_type": "markdown",
   "id": "14c027ea-d4b9-4af0-affb-ee6ddb7de19d",
   "metadata": {},
   "source": [
    "#### Creating back-up copy"
   ]
  },
  {
   "cell_type": "code",
   "execution_count": null,
   "id": "bb4e928a-bc96-4995-b280-c0d3b4a49ec1",
   "metadata": {},
   "outputs": [],
   "source": [
    "SELECT *\n",
    "FROM layoffs;\n",
    "\n",
    "CREATE TABLE world_layoffs.layoffs_test\n",
    "LIKE world_layoffs.layoffs;\n",
    "\n",
    "INSERT layoffs_test\n",
    "SELECT * FROM world_layoffs.layoffs;\n",
    "\n",
    "SELECT * \n",
    "FROM layoffs_test"
   ]
  },
  {
   "cell_type": "markdown",
   "id": "98c64903-baaa-40d2-b75b-851608885cf5",
   "metadata": {},
   "source": [
    "### Duplicates"
   ]
  },
  {
   "cell_type": "code",
   "execution_count": null,
   "id": "dafb1753-f748-4d53-b27a-cb93299bc6e6",
   "metadata": {},
   "outputs": [],
   "source": [
    "# Searching for duplicates\n",
    "\n",
    "SELECT *, COUNT(*) AS count\n",
    "FROM world_layoffs.layoffs_test\n",
    "GROUP BY company, location, industry, total_laid_off, percentage_laid_off, date, stage, country, funds_raised\n",
    "HAVING COUNT(*) > 1;\n",
    "\n",
    "#This code search the whole table, each identical column and count the number of duplicates.\n",
    "#In our dataset, we found 2 duplicates, one from the company Cazoo and the other from Beyond Meat.\n",
    "\n",
    "#Reminder: a row is considered as a duplicate if EVERY columns are identical."
   ]
  },
  {
   "cell_type": "code",
   "execution_count": null,
   "id": "ffcaf1c1-cc6c-4e38-840b-fa4c8fff9ad2",
   "metadata": {},
   "outputs": [],
   "source": [
    "#To easily find our way, we can create an \"Id\" column which we incremente in ascending order.\n",
    "\n",
    "ALTER TABLE world_layoffs.layoffs_test\n",
    "ADD COLUMN id INT AUTO_INCREMENT PRIMARY KEY;"
   ]
  },
  {
   "cell_type": "code",
   "execution_count": null,
   "id": "5d424050-0538-42d5-bb45-2692a6604de6",
   "metadata": {},
   "outputs": [],
   "source": [
    "#We create a temporary Id table to avoid errors.\n",
    "#And then we can just delete the duplicated rows according to the id \n",
    "\n",
    "CREATE TABLE temp_ids (id INT);\n",
    "INSERT INTO temp_ids (id)\n",
    "SELECT MIN(id)\n",
    "FROM world_layoffs.layoffs_test\n",
    "GROUP BY company, location, industry, total_laid_off, percentage_laid_off, `date`, stage, country, funds_raised\n",
    "HAVING COUNT(*) > 1;\n",
    "\n",
    "DELETE FROM world_layoffs.layoffs_test\n",
    "WHERE id IN (SELECT id FROM temp_ids);"
   ]
  },
  {
   "cell_type": "code",
   "execution_count": null,
   "id": "87ebb6cc-78cf-482f-bb58-e49548852548",
   "metadata": {},
   "outputs": [],
   "source": [
    "#Verification of companies \"Cazoo\" and \"Beyond Meat\"\n",
    "\n",
    "SELECT * \n",
    "FROM layoffs_test\n",
    "WHERE company = \"Cazoo\";\n",
    "\n",
    "SELECT * \n",
    "FROM layoffs_test\n",
    "WHERE company = \"Beyond Meat\"; \n",
    "\n",
    "#These companies had one duplicate each, after verification, there is no more duplicates. But the whole rows were replaced with null values."
   ]
  },
  {
   "cell_type": "code",
   "execution_count": null,
   "id": "0c7021f0-892c-4432-9333-38ff86b189b8",
   "metadata": {},
   "outputs": [],
   "source": [
    "#We then delete column id which was used as a reference for deleting duplicates.\n",
    "ALTER TABLE world_layoffs.layoffs_test\n",
    "DROP COLUMN id;\n"
   ]
  },
  {
   "cell_type": "code",
   "execution_count": null,
   "id": "34d27b72-d360-4319-a044-62ff1ad2b98a",
   "metadata": {},
   "outputs": [],
   "source": [
    "#We know that the dataset necessarily possesses name companies. We can refer to this very column to delete the \"null\" row.\n",
    "DELETE FROM world_layoffs.layoffs_test\n",
    "WHERE company IS NULL \n",
    "  AND location IS NULL \n",
    "  AND industry IS NULL \n",
    "  AND total_laid_off IS NULL \n",
    "  AND percentage_laid_off IS NULL \n",
    "  AND `date` IS NULL \n",
    "  AND stage IS NULL \n",
    "  AND country IS NULL \n",
    "  AND funds_raised IS NULL;\n",
    "\n",
    "#Verification of companies \"Cazoo\" and \"Beyond Meat\" again : null rows were successfully deleted.\n",
    "\n",
    "SELECT * \n",
    "FROM layoffs_test\n",
    "WHERE company = \"Cazoo\";\n",
    "\n",
    "SELECT * \n",
    "FROM layoffs_test\n",
    "WHERE company = \"Beyond Meat\";"
   ]
  },
  {
   "cell_type": "markdown",
   "id": "98a276c8-a058-4970-8650-e7e37bc873a6",
   "metadata": {},
   "source": [
    "#### Standardization"
   ]
  },
  {
   "cell_type": "code",
   "execution_count": null,
   "id": "a66412f1-3e2e-4667-a7d5-d3d5e3fe00de",
   "metadata": {},
   "outputs": [],
   "source": [
    "#We create another copy of layoffs_test for standardization this time.\n",
    "#With Trim() function, we can avoid unnecessary spaces that are not visible, in front and behind the company name.\n",
    "\n",
    "SELECT *\n",
    "FROM world_layoffs.layoffs_test2;\n",
    "\n",
    "UPDATE world_layoffs.layoffs_test2\n",
    "SET company = TRIM(company);\n",
    "\n",
    "# Verifying company : nothing to signal\n",
    "SELECT DISTINCT company\n",
    "FROM world_layoffs.layoffs_test2\n",
    "ORDER BY company;\n",
    "\n",
    "# Verifying industry : there is a row with nothing assigned and another one with an URL\n",
    "SELECT DISTINCT industry\n",
    "FROM world_layoffs.layoffs_test2\n",
    "ORDER BY industry;\n",
    "\n",
    "# Verifying if there is a row starting with https: for the industry\n",
    "\n",
    "UPDATE world_layoffs.layoffs_test2\n",
    "SET industry = 'N/A'\n",
    "WHERE industry LIKE 'https:%';\n",
    "\n",
    "SELECT *\n",
    "FROM world_layoffs.layoffs_test2\n",
    "WHERE company LIKE 'ebay';\n",
    "\n",
    "# Changing the eBay industry column to N/A to remove the URL\n",
    "\n",
    "# Verifying location : nothing to signal, the display is different for some characters but nothing important.\n",
    "# example : Fayetteville, Düsseldorf\n",
    "\n",
    "SELECT DISTINCT location\n",
    "FROM world_layoffs.layoffs_test2\n",
    "ORDER BY location;\n",
    "\n",
    "# Verifying country : nothing to signal\n",
    "SELECT DISTINCT country\n",
    "FROM world_layoffs.layoffs_test2\n",
    "ORDER BY country;\n",
    "\n"
   ]
  },
  {
   "cell_type": "markdown",
   "id": "c618516d-170c-4beb-9ebc-de0ffaea262f",
   "metadata": {},
   "source": [
    "#### Useless blank and null rows and columns"
   ]
  },
  {
   "cell_type": "code",
   "execution_count": null,
   "id": "94a63771-82ed-4dc5-8773-b8a131ccca20",
   "metadata": {},
   "outputs": [],
   "source": [
    "SELECT *\n",
    "FROM layoffs_test2;\n",
    "\n",
    "#N/A and NULL columns/rows are found in total_laid_off and percentage_laid_off.\n",
    "#We modify these columns with a blank string to transform them into blank. \n",
    "\n",
    "UPDATE world_layoffs.layoffs_test2\n",
    "SET total_laid_off = NULL\n",
    "WHERE total_laid_off = '';\n",
    "\n",
    "UPDATE world_layoffs.layoffs_test2\n",
    "SET percentage_laid_off = NULL\n",
    "WHERE percentage_laid_off = '';\n",
    "\n",
    "#As we are working on layoffs, analyzing companies with no data on total_laid_off and percentage_laid_off is useless.\n",
    "#We can just delete all the blank rows for these columns.\n",
    "\n",
    "DELETE FROM world_layoffs.layoffs_test2\n",
    "WHERE total_laid_off IS NULL\n",
    "AND percentage_laid_off IS NULL;\n",
    "\n",
    "SELECT * \n",
    "FROM world_layoffs.layoffs_test2;"
   ]
  }
 ],
 "metadata": {
  "kernelspec": {
   "display_name": "Python 3 (ipykernel)",
   "language": "python",
   "name": "python3"
  },
  "language_info": {
   "codemirror_mode": {
    "name": "ipython",
    "version": 3
   },
   "file_extension": ".py",
   "mimetype": "text/x-python",
   "name": "python",
   "nbconvert_exporter": "python",
   "pygments_lexer": "ipython3",
   "version": "3.11.9"
  }
 },
 "nbformat": 4,
 "nbformat_minor": 5
}
