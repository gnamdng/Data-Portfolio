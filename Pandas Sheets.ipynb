{
 "cells": [
  {
   "cell_type": "markdown",
   "id": "04e9e7c6-9f15-4845-8432-c8049b0add6f",
   "metadata": {},
   "source": [
    "# Pandas Sheets"
   ]
  },
  {
   "cell_type": "markdown",
   "id": "97330dd4-6109-498a-84b5-2e4cd176a116",
   "metadata": {},
   "source": [
    "#### Création DataFrame"
   ]
  },
  {
   "cell_type": "code",
   "execution_count": null,
   "id": "7be05b3b-74b4-44a8-9805-9a47f2523823",
   "metadata": {},
   "outputs": [],
   "source": [
    "#Création d'un DataFrame\n",
    "pd.DataFrame()\n",
    "\n",
    "#Chargement des données CSV\n",
    "pd.read_csv()"
   ]
  },
  {
   "cell_type": "markdown",
   "id": "73f94b2f-4b9a-4b48-9b9f-9538275e28d2",
   "metadata": {},
   "source": [
    "#### Informations sur les données"
   ]
  },
  {
   "cell_type": "code",
   "execution_count": null,
   "id": "110ff97d-7d85-40ae-9652-38efe7b37816",
   "metadata": {},
   "outputs": [],
   "source": [
    "# Premières lignes du DataFrame \n",
    "df.head()\n",
    "\n",
    "# Dernière lignes du DataFrame\n",
    "df.tail()\n",
    "\n",
    "# Informations Générale\n",
    "df.info()\n",
    "\n",
    "# Description statistiques des colonnes numériques\n",
    "df.describe()\n",
    "\n",
    "# Description statistiques de tout\n",
    "df.describe(include='all')\n",
    "\n",
    "# Dimensions du DataFrame\n",
    "df.shape\n",
    "df.size\n",
    "df.ndim\n",
    "\n",
    "# Types de données de chaque colonne\n",
    "df.dtypes\n",
    "# Renommer Colonnes ou Index\n",
    "df.rename()\n",
    "# Supprimer lignes ou colonnes\n",
    "df.drop()"
   ]
  },
  {
   "cell_type": "markdown",
   "id": "237040ae-24a3-4433-a11f-05906a895710",
   "metadata": {},
   "source": [
    "#### Sélection, Filtrage, Tri des données"
   ]
  },
  {
   "cell_type": "code",
   "execution_count": null,
   "id": "46a8d912-5466-4315-a16e-ba8dcd7caf47",
   "metadata": {},
   "outputs": [],
   "source": [
    "# Sélection colonnes\n",
    "df['col'] ou df[['col1', 'col2']]\n",
    "\n",
    "# Sélection par position ou Label\n",
    "df.loc[]\n",
    "\n",
    "# Sélection par index (exemple: première ligne, deuxième colonne)\n",
    "df.iloc[0, 1] \n",
    "\n",
    "# Sélection des données par label (nom de colonnes)\n",
    "df.loc[0,'col']\n",
    "\n",
    "# Trier selon l'index\n",
    "df.sort_index()\n",
    "\n",
    "# Changer d'index\n",
    "df.set_index()"
   ]
  },
  {
   "cell_type": "markdown",
   "id": "f161090b-0b80-4adc-a7d5-92abd117aa72",
   "metadata": {},
   "source": [
    "#### Manipulation des données"
   ]
  },
  {
   "cell_type": "code",
   "execution_count": null,
   "id": "60542f8e-26ae-4eda-b66d-9fff5c4664fc",
   "metadata": {},
   "outputs": [],
   "source": [
    "#Supprimer colonne\n",
    "df.drop(columns=['col'])\n",
    "\n",
    "#Renommer colonne\n",
    "df.rename(columns={'ancien_nom': 'nouveau_nom'})\n",
    "\n",
    "#Trier selon une colonne\n",
    "df.sort_values(by='age', ascending=False)"
   ]
  },
  {
   "cell_type": "markdown",
   "id": "068f4ae0-7205-45ee-b2f5-866caa4ba203",
   "metadata": {},
   "source": [
    "#### Données manquantes"
   ]
  },
  {
   "cell_type": "code",
   "execution_count": null,
   "id": "2ff8abb9-e510-4c39-a594-f9bf3eb8982d",
   "metadata": {},
   "outputs": [],
   "source": [
    "# Vérifier valeurs manquantes\n",
    "df.isna()\n",
    "# Remplacer valeurs manquantes\n",
    "df.fillna()\n",
    "# Supprimer lignes ou colonnes avec valeurs manquantes\n",
    "df.dropna()"
   ]
  },
  {
   "cell_type": "markdown",
   "id": "e36d66d8-f1d8-442f-876b-a4a049591494",
   "metadata": {},
   "source": [
    "#### Calculs"
   ]
  },
  {
   "cell_type": "code",
   "execution_count": 2,
   "id": "7119ae73-7aab-4bb7-8e1f-c6f9e176d182",
   "metadata": {},
   "outputs": [],
   "source": [
    "# Minimum et Maximum d'une colonne / ligne\n",
    "df.min()\n",
    "df.max()\n",
    "# Ecart type d'une colonne ou ligne\n",
    "df.std()\n",
    "df.std(axis=1)\n",
    "# Médiane d'une colonne ou ligne\n",
    "df.median()\n",
    "df.meian(axis=1)\n",
    "# Moyenne d'une colonne ou ligne\n",
    "df.mean()\n",
    "df.mean(axis=1)\n",
    "# Somme des valeurs de la colonne / ligne\n",
    "df.sum()\n",
    "df.sum(axis=1)\n",
    "# Comptage du nombre de valeurs (non nulles)\n",
    "df.count()\n",
    "# Variance\n",
    "df.var()"
   ]
  },
  {
   "cell_type": "markdown",
   "id": "75ca4c60-17bc-4f0f-a550-b612e80bfd0c",
   "metadata": {},
   "source": [
    "#### Visualisations : Fonction Graphique"
   ]
  },
  {
   "cell_type": "code",
   "execution_count": null,
   "id": "bd168525-06f6-4e4a-aa63-a73d8860f6a2",
   "metadata": {},
   "outputs": [],
   "source": [
    "# Ligne:\n",
    "df.plot\n",
    "\n",
    "df.plot(kind='bar')# Barres\n",
    "df.plot(kind='hist')# Histogramme\n",
    "df.plot(kind='density')# Density\n",
    "df.plot(kind='pie')# Circulaire\n",
    "df.plot(kind='scatter')# Nuage de points\n",
    "df.plot(kind='area')# Area \n",
    "df.plot(kind='barh')# barres horizontales\n",
    "\n",
    "plot.grid(True) # Afficher les grilles\n",
    "plot.ylabel('') # Titre sur l'axe des ordonnées\n",
    "plot.xlabel('') # Titre sur l'axe des abscisses\n",
    "\n",
    "# Exemple de graphique avec paramètres\n",
    "df.plot(x='',y='', kind='line', figsize=(10,5), title='', color=''"
   ]
  },
  {
   "cell_type": "markdown",
   "id": "05c20d28-834c-4a20-91ed-2c83accb2a1e",
   "metadata": {},
   "source": [
    "#### Fonctions graphiques spécifique"
   ]
  },
  {
   "cell_type": "code",
   "execution_count": null,
   "id": "2d38ac6e-4d76-4fc8-9341-135c7be69878",
   "metadata": {},
   "outputs": [],
   "source": [
    ".plot.pie()\n",
    ".plot.scatter()\n",
    ".plot.barh() \n",
    "\n",
    "#Paramètres de pie\n",
    "figsize(8,8) #taille du graphique\n",
    "autopct('%1,1f%%') #Format affichage pourcentages avec 1 chiffre après la virgule\n",
    "explode() #Faire décaler les parts\n",
    "shadow #rajouter une ombre au graphique\n",
    "textprops = {'fontsize': 15}) #Personnaliser le texte\n",
    "\n",
    "#Paramètres de hist\n",
    "bins  #nombre de barres (intervalle)\n",
    "alpha #transparence des barres (entre 0 et 1)\n",
    "color #couleur\n",
    "\n",
    "#Paramètres de barh\n",
    "stacked #Empiler les barres\n",
    "xerr / yerr #ajout d'erreurs aux barres\n",
    "color\n",
    "\n",
    "#Paramètres de scatter\n",
    "x\n",
    "y\n",
    "s\n",
    "c\n",
    "colormap\n"
   ]
  }
 ],
 "metadata": {
  "kernelspec": {
   "display_name": "Python 3 (ipykernel)",
   "language": "python",
   "name": "python3"
  },
  "language_info": {
   "codemirror_mode": {
    "name": "ipython",
    "version": 3
   },
   "file_extension": ".py",
   "mimetype": "text/x-python",
   "name": "python",
   "nbconvert_exporter": "python",
   "pygments_lexer": "ipython3",
   "version": "3.11.9"
  }
 },
 "nbformat": 4,
 "nbformat_minor": 5
}
