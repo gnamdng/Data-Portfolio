{
 "cells": [
  {
   "cell_type": "markdown",
   "id": "99e43d88-0261-4619-9012-b6ca689ef17d",
   "metadata": {},
   "source": [
    "# A/B Testing Project"
   ]
  },
  {
   "cell_type": "markdown",
   "id": "55abecbb-84b7-473b-a279-8a7b7c8a3b9d",
   "metadata": {},
   "source": [
    "
  },
  {
   "cell_type": "markdown",
   "id": "01609784-fb41-42f8-ba4d-ff547263139a",
   "metadata": {},
   "source": [
    "### Importation des données"
   ]
  },
  {
   "cell_type": "code",
   "execution_count": 3,
   "id": "6d716e5b-0a4f-4772-89aa-0e0e9cfd2b7b",
   "metadata": {},
   "outputs": [],
   "source": [
    "import pandas as pd\n",
    "import matplotlib.pyplot as plt\n",
    "import seaborn as sns\n",
    "from scipy import stats\n",
    "sns.set()"
   ]
  },
  {
   "cell_type": "markdown",
   "id": "16435b4d-4805-47f9-a605-340007dc7d28",
   "metadata": {},
   "source": [
    "# Exploratory Data Analysis"
   ]
  },
  {
   "cell_type": "code",
   "execution_count": 4,
   "id": "fc54c4b4-6b88-4566-bd1a-7c416db175f1",
   "metadata": {},
   "outputs": [
    {
     "data": {
      "text/html": [
       "<div>\n",
       "<style scoped>\n",
       "    .dataframe tbody tr th:only-of-type {\n",
       "        vertical-align: middle;\n",
       "    }\n",
       "\n",
       "    .dataframe tbody tr th {\n",
       "        vertical-align: top;\n",
       "    }\n",
       "\n",
       "    .dataframe thead th {\n",
       "        text-align: right;\n",
       "    }\n",
       "</style>\n",
       "<table border=\"1\" class=\"dataframe\">\n",
       "  <thead>\n",
       "    <tr style=\"text-align: right;\">\n",
       "      <th></th>\n",
       "      <th>OutletID</th>\n",
       "      <th>MarketSize</th>\n",
       "      <th>AgeofOutlets</th>\n",
       "      <th>Campaigns</th>\n",
       "      <th>Week</th>\n",
       "      <th>SalesInThousands</th>\n",
       "    </tr>\n",
       "  </thead>\n",
       "  <tbody>\n",
       "    <tr>\n",
       "      <th>0</th>\n",
       "      <td>1</td>\n",
       "      <td>Medium</td>\n",
       "      <td>4</td>\n",
       "      <td>3</td>\n",
       "      <td>1</td>\n",
       "      <td>33.73</td>\n",
       "    </tr>\n",
       "    <tr>\n",
       "      <th>1</th>\n",
       "      <td>1</td>\n",
       "      <td>Medium</td>\n",
       "      <td>4</td>\n",
       "      <td>3</td>\n",
       "      <td>2</td>\n",
       "      <td>35.67</td>\n",
       "    </tr>\n",
       "    <tr>\n",
       "      <th>2</th>\n",
       "      <td>1</td>\n",
       "      <td>Medium</td>\n",
       "      <td>4</td>\n",
       "      <td>3</td>\n",
       "      <td>3</td>\n",
       "      <td>29.03</td>\n",
       "    </tr>\n",
       "    <tr>\n",
       "      <th>3</th>\n",
       "      <td>1</td>\n",
       "      <td>Medium</td>\n",
       "      <td>4</td>\n",
       "      <td>3</td>\n",
       "      <td>4</td>\n",
       "      <td>39.25</td>\n",
       "    </tr>\n",
       "    <tr>\n",
       "      <th>4</th>\n",
       "      <td>2</td>\n",
       "      <td>Medium</td>\n",
       "      <td>5</td>\n",
       "      <td>2</td>\n",
       "      <td>1</td>\n",
       "      <td>27.81</td>\n",
       "    </tr>\n",
       "    <tr>\n",
       "      <th>5</th>\n",
       "      <td>2</td>\n",
       "      <td>Medium</td>\n",
       "      <td>5</td>\n",
       "      <td>2</td>\n",
       "      <td>2</td>\n",
       "      <td>34.67</td>\n",
       "    </tr>\n",
       "    <tr>\n",
       "      <th>6</th>\n",
       "      <td>2</td>\n",
       "      <td>Medium</td>\n",
       "      <td>5</td>\n",
       "      <td>2</td>\n",
       "      <td>3</td>\n",
       "      <td>27.98</td>\n",
       "    </tr>\n",
       "    <tr>\n",
       "      <th>7</th>\n",
       "      <td>2</td>\n",
       "      <td>Medium</td>\n",
       "      <td>5</td>\n",
       "      <td>2</td>\n",
       "      <td>4</td>\n",
       "      <td>27.72</td>\n",
       "    </tr>\n",
       "    <tr>\n",
       "      <th>8</th>\n",
       "      <td>3</td>\n",
       "      <td>Medium</td>\n",
       "      <td>12</td>\n",
       "      <td>1</td>\n",
       "      <td>1</td>\n",
       "      <td>44.54</td>\n",
       "    </tr>\n",
       "    <tr>\n",
       "      <th>9</th>\n",
       "      <td>3</td>\n",
       "      <td>Medium</td>\n",
       "      <td>12</td>\n",
       "      <td>1</td>\n",
       "      <td>2</td>\n",
       "      <td>37.94</td>\n",
       "    </tr>\n",
       "    <tr>\n",
       "      <th>10</th>\n",
       "      <td>3</td>\n",
       "      <td>Medium</td>\n",
       "      <td>12</td>\n",
       "      <td>1</td>\n",
       "      <td>3</td>\n",
       "      <td>45.49</td>\n",
       "    </tr>\n",
       "    <tr>\n",
       "      <th>11</th>\n",
       "      <td>3</td>\n",
       "      <td>Medium</td>\n",
       "      <td>12</td>\n",
       "      <td>1</td>\n",
       "      <td>4</td>\n",
       "      <td>34.75</td>\n",
       "    </tr>\n",
       "    <tr>\n",
       "      <th>12</th>\n",
       "      <td>4</td>\n",
       "      <td>Medium</td>\n",
       "      <td>1</td>\n",
       "      <td>2</td>\n",
       "      <td>1</td>\n",
       "      <td>39.28</td>\n",
       "    </tr>\n",
       "    <tr>\n",
       "      <th>13</th>\n",
       "      <td>4</td>\n",
       "      <td>Medium</td>\n",
       "      <td>1</td>\n",
       "      <td>2</td>\n",
       "      <td>2</td>\n",
       "      <td>39.80</td>\n",
       "    </tr>\n",
       "    <tr>\n",
       "      <th>14</th>\n",
       "      <td>4</td>\n",
       "      <td>Medium</td>\n",
       "      <td>1</td>\n",
       "      <td>2</td>\n",
       "      <td>3</td>\n",
       "      <td>24.77</td>\n",
       "    </tr>\n",
       "    <tr>\n",
       "      <th>15</th>\n",
       "      <td>4</td>\n",
       "      <td>Medium</td>\n",
       "      <td>1</td>\n",
       "      <td>2</td>\n",
       "      <td>4</td>\n",
       "      <td>30.98</td>\n",
       "    </tr>\n",
       "    <tr>\n",
       "      <th>16</th>\n",
       "      <td>5</td>\n",
       "      <td>Medium</td>\n",
       "      <td>10</td>\n",
       "      <td>2</td>\n",
       "      <td>1</td>\n",
       "      <td>30.37</td>\n",
       "    </tr>\n",
       "    <tr>\n",
       "      <th>17</th>\n",
       "      <td>5</td>\n",
       "      <td>Medium</td>\n",
       "      <td>10</td>\n",
       "      <td>2</td>\n",
       "      <td>2</td>\n",
       "      <td>24.82</td>\n",
       "    </tr>\n",
       "    <tr>\n",
       "      <th>18</th>\n",
       "      <td>5</td>\n",
       "      <td>Medium</td>\n",
       "      <td>10</td>\n",
       "      <td>2</td>\n",
       "      <td>3</td>\n",
       "      <td>37.47</td>\n",
       "    </tr>\n",
       "    <tr>\n",
       "      <th>19</th>\n",
       "      <td>5</td>\n",
       "      <td>Medium</td>\n",
       "      <td>10</td>\n",
       "      <td>2</td>\n",
       "      <td>4</td>\n",
       "      <td>23.35</td>\n",
       "    </tr>\n",
       "  </tbody>\n",
       "</table>\n",
       "</div>"
      ],
      "text/plain": [
       "    OutletID MarketSize  AgeofOutlets  Campaigns  Week  SalesInThousands\n",
       "0          1     Medium             4          3     1             33.73\n",
       "1          1     Medium             4          3     2             35.67\n",
       "2          1     Medium             4          3     3             29.03\n",
       "3          1     Medium             4          3     4             39.25\n",
       "4          2     Medium             5          2     1             27.81\n",
       "5          2     Medium             5          2     2             34.67\n",
       "6          2     Medium             5          2     3             27.98\n",
       "7          2     Medium             5          2     4             27.72\n",
       "8          3     Medium            12          1     1             44.54\n",
       "9          3     Medium            12          1     2             37.94\n",
       "10         3     Medium            12          1     3             45.49\n",
       "11         3     Medium            12          1     4             34.75\n",
       "12         4     Medium             1          2     1             39.28\n",
       "13         4     Medium             1          2     2             39.80\n",
       "14         4     Medium             1          2     3             24.77\n",
       "15         4     Medium             1          2     4             30.98\n",
       "16         5     Medium            10          2     1             30.37\n",
       "17         5     Medium            10          2     2             24.82\n",
       "18         5     Medium            10          2     3             37.47\n",
       "19         5     Medium            10          2     4             23.35"
      ]
     },
     "execution_count": 4,
     "metadata": {},
     "output_type": "execute_result"
    }
   ],
   "source": [
    "df = pd.read_csv('campaigns.csv')\n",
    "df.head(20)"
   ]
  },
  {
   "cell_type": "code",
   "execution_count": 5,
   "id": "9531b6d4-1aec-4449-a2af-a15ac9cb8179",
   "metadata": {},
   "outputs": [
    {
     "data": {
      "text/plain": [
       "(548, 6)"
      ]
     },
     "execution_count": 5,
     "metadata": {},
     "output_type": "execute_result"
    }
   ],
   "source": [
    "df.shape"
   ]
  },
  {
   "cell_type": "code",
   "execution_count": 6,
   "id": "62189356-eb7e-4a53-9e5c-05f6a8a1d5c0",
   "metadata": {},
   "outputs": [
    {
     "data": {
      "text/plain": [
       "Index(['OutletID', 'MarketSize', 'AgeofOutlets', 'Campaigns', 'Week',\n",
       "       'SalesInThousands'],\n",
       "      dtype='object')"
      ]
     },
     "execution_count": 6,
     "metadata": {},
     "output_type": "execute_result"
    }
   ],
   "source": [
    "df.columns"
   ]
  },
  {
   "cell_type": "code",
   "execution_count": 7,
   "id": "3ffa3146-477b-4b6f-b565-478bfb471fc1",
   "metadata": {},
   "outputs": [
    {
     "data": {
      "text/plain": [
       "OutletID            137\n",
       "MarketSize            3\n",
       "AgeofOutlets         25\n",
       "Campaigns             3\n",
       "Week                  4\n",
       "SalesInThousands    517\n",
       "dtype: int64"
      ]
     },
     "execution_count": 7,
     "metadata": {},
     "output_type": "execute_result"
    }
   ],
   "source": [
    "df.nunique()"
   ]
  },
  {
   "cell_type": "code",
   "execution_count": 8,
   "id": "ed438036-3041-4054-989b-3b498fee90d3",
   "metadata": {},
   "outputs": [
    {
     "data": {
      "text/html": [
       "<div>\n",
       "<style scoped>\n",
       "    .dataframe tbody tr th:only-of-type {\n",
       "        vertical-align: middle;\n",
       "    }\n",
       "\n",
       "    .dataframe tbody tr th {\n",
       "        vertical-align: top;\n",
       "    }\n",
       "\n",
       "    .dataframe thead th {\n",
       "        text-align: right;\n",
       "    }\n",
       "</style>\n",
       "<table border=\"1\" class=\"dataframe\">\n",
       "  <thead>\n",
       "    <tr style=\"text-align: right;\">\n",
       "      <th></th>\n",
       "      <th>OutletID</th>\n",
       "      <th>AgeofOutlets</th>\n",
       "      <th>Campaigns</th>\n",
       "      <th>Week</th>\n",
       "      <th>SalesInThousands</th>\n",
       "    </tr>\n",
       "  </thead>\n",
       "  <tbody>\n",
       "    <tr>\n",
       "      <th>count</th>\n",
       "      <td>548.000000</td>\n",
       "      <td>548.000000</td>\n",
       "      <td>548.000000</td>\n",
       "      <td>548.000000</td>\n",
       "      <td>548.000000</td>\n",
       "    </tr>\n",
       "    <tr>\n",
       "      <th>mean</th>\n",
       "      <td>479.656934</td>\n",
       "      <td>8.503650</td>\n",
       "      <td>2.029197</td>\n",
       "      <td>2.500000</td>\n",
       "      <td>53.466204</td>\n",
       "    </tr>\n",
       "    <tr>\n",
       "      <th>std</th>\n",
       "      <td>287.973679</td>\n",
       "      <td>6.638345</td>\n",
       "      <td>0.810729</td>\n",
       "      <td>1.119055</td>\n",
       "      <td>16.755216</td>\n",
       "    </tr>\n",
       "    <tr>\n",
       "      <th>min</th>\n",
       "      <td>1.000000</td>\n",
       "      <td>1.000000</td>\n",
       "      <td>1.000000</td>\n",
       "      <td>1.000000</td>\n",
       "      <td>17.340000</td>\n",
       "    </tr>\n",
       "    <tr>\n",
       "      <th>25%</th>\n",
       "      <td>216.000000</td>\n",
       "      <td>4.000000</td>\n",
       "      <td>1.000000</td>\n",
       "      <td>1.750000</td>\n",
       "      <td>42.545000</td>\n",
       "    </tr>\n",
       "    <tr>\n",
       "      <th>50%</th>\n",
       "      <td>504.000000</td>\n",
       "      <td>7.000000</td>\n",
       "      <td>2.000000</td>\n",
       "      <td>2.500000</td>\n",
       "      <td>50.200000</td>\n",
       "    </tr>\n",
       "    <tr>\n",
       "      <th>75%</th>\n",
       "      <td>708.000000</td>\n",
       "      <td>12.000000</td>\n",
       "      <td>3.000000</td>\n",
       "      <td>3.250000</td>\n",
       "      <td>60.477500</td>\n",
       "    </tr>\n",
       "    <tr>\n",
       "      <th>max</th>\n",
       "      <td>920.000000</td>\n",
       "      <td>28.000000</td>\n",
       "      <td>3.000000</td>\n",
       "      <td>4.000000</td>\n",
       "      <td>99.650000</td>\n",
       "    </tr>\n",
       "  </tbody>\n",
       "</table>\n",
       "</div>"
      ],
      "text/plain": [
       "         OutletID  AgeofOutlets   Campaigns        Week  SalesInThousands\n",
       "count  548.000000    548.000000  548.000000  548.000000        548.000000\n",
       "mean   479.656934      8.503650    2.029197    2.500000         53.466204\n",
       "std    287.973679      6.638345    0.810729    1.119055         16.755216\n",
       "min      1.000000      1.000000    1.000000    1.000000         17.340000\n",
       "25%    216.000000      4.000000    1.000000    1.750000         42.545000\n",
       "50%    504.000000      7.000000    2.000000    2.500000         50.200000\n",
       "75%    708.000000     12.000000    3.000000    3.250000         60.477500\n",
       "max    920.000000     28.000000    3.000000    4.000000         99.650000"
      ]
     },
     "execution_count": 8,
     "metadata": {},
     "output_type": "execute_result"
    }
   ],
   "source": [
    "df.describe()"
   ]
  },
  {
   "cell_type": "markdown",
   "id": "0164d8e8-e955-4a65-8b46-e75474f6a704",
   "metadata": {},
   "source": [
    "### Exploratory Data Analysis"
   ]
  },
  {
   "cell_type": "code",
   "execution_count": 113,
   "id": "4831d700-2100-4698-a0fa-b51c60760e96",
   "metadata": {},
   "outputs": [
    {
     "data": {
      "image/png": "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",
      "text/plain": [
       "<Figure size 800x800 with 1 Axes>"
      ]
     },
     "metadata": {},
     "output_type": "display_data"
    }
   ],
   "source": [
    "plotgraph = df.groupby('Campaigns').sum()['SalesInThousands'].plot.pie(figsize=(8,8),\n",
    "                                                                  autopct='%1.0f%%',\n",
    "                                                                  explode = (0,0.1,0),\n",
    "                                                                  textprops = {'fontsize' : 15})\n",
    "\n",
    "plt.title('')\n",
    "plt.show()"
   ]
  },
  {
   "cell_type": "markdown",
   "id": "d537471e-4df9-4155-bd84-346357f83a48",
   "metadata": {},
   "source": [
    "La campagne numéro 3 a remporté plus de ventes, suivi par la campagne numéro 1 et en dernier la campagne numéro 2.\n"
   ]
  },
  {
   "cell_type": "code",
   "execution_count": 9,
   "id": "2de731da-aaf4-4b6d-88eb-9a90cc9e553b",
   "metadata": {},
   "outputs": [
    {
     "data": {
      "text/html": [
       "<div>\n",
       "<style scoped>\n",
       "    .dataframe tbody tr th:only-of-type {\n",
       "        vertical-align: middle;\n",
       "    }\n",
       "\n",
       "    .dataframe tbody tr th {\n",
       "        vertical-align: top;\n",
       "    }\n",
       "\n",
       "    .dataframe thead th {\n",
       "        text-align: right;\n",
       "    }\n",
       "</style>\n",
       "<table border=\"1\" class=\"dataframe\">\n",
       "  <thead>\n",
       "    <tr style=\"text-align: right;\">\n",
       "      <th>MarketSize</th>\n",
       "      <th>Large</th>\n",
       "      <th>Medium</th>\n",
       "      <th>Small</th>\n",
       "    </tr>\n",
       "    <tr>\n",
       "      <th>Campaigns</th>\n",
       "      <th></th>\n",
       "      <th></th>\n",
       "      <th></th>\n",
       "    </tr>\n",
       "  </thead>\n",
       "  <tbody>\n",
       "    <tr>\n",
       "      <th>1</th>\n",
       "      <td>56</td>\n",
       "      <td>96</td>\n",
       "      <td>20</td>\n",
       "    </tr>\n",
       "    <tr>\n",
       "      <th>2</th>\n",
       "      <td>64</td>\n",
       "      <td>108</td>\n",
       "      <td>16</td>\n",
       "    </tr>\n",
       "    <tr>\n",
       "      <th>3</th>\n",
       "      <td>48</td>\n",
       "      <td>116</td>\n",
       "      <td>24</td>\n",
       "    </tr>\n",
       "  </tbody>\n",
       "</table>\n",
       "</div>"
      ],
      "text/plain": [
       "MarketSize  Large  Medium  Small\n",
       "Campaigns                       \n",
       "1              56      96     20\n",
       "2              64     108     16\n",
       "3              48     116     24"
      ]
     },
     "execution_count": 9,
     "metadata": {},
     "output_type": "execute_result"
    }
   ],
   "source": [
    "df.groupby(['Campaigns', 'MarketSize']).count()['OutletID'].unstack('MarketSize')"
   ]
  },
  {
   "cell_type": "markdown",
   "id": "b8f4aac0-c69e-49e4-bf13-b9f5309ab935",
   "metadata": {},
   "source": [
    "On sépare par la suite les campagnes par rapport à la taille du marché, et on réalise un compteur du nombre de clients pour les différentes campagnes."
   ]
  },
  {
   "cell_type": "code",
   "execution_count": 10,
   "id": "8d13be7c-3a85-4e48-90bc-391613184361",
   "metadata": {},
   "outputs": [
    {
     "data": {
      "text/plain": [
       "Campaigns  MarketSize\n",
       "1          Large          56\n",
       "           Medium         96\n",
       "           Small          20\n",
       "2          Large          64\n",
       "           Medium        108\n",
       "           Small          16\n",
       "3          Large          48\n",
       "           Medium        116\n",
       "           Small          24\n",
       "Name: OutletID, dtype: int64"
      ]
     },
     "execution_count": 10,
     "metadata": {},
     "output_type": "execute_result"
    }
   ],
   "source": [
    "df.groupby(['Campaigns', 'MarketSize']).count()['OutletID']"
   ]
  },
  {
   "cell_type": "markdown",
   "id": "d6498606-2fa8-425f-ba26-127732eac29e",
   "metadata": {},
   "source": [
    "Par la suite, on peut s'intéresser à la répartition des campagnes selon la taille des points de ventes dans un graphique à barres."
   ]
  },
  {
   "cell_type": "code",
   "execution_count": 11,
   "id": "2713a92a-c98f-4738-84d8-18abd6b6d786",
   "metadata": {},
   "outputs": [
    {
     "data": {
      "text/plain": [
       "Text(0.5, 1.0, 'Répartition des tailles de Market par campagnes')"
      ]
     },
     "execution_count": 11,
     "metadata": {},
     "output_type": "execute_result"
    },
    {
     "data": {
      "image/png": "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",
      "text/plain": [
       "<Figure size 1200x500 with 1 Axes>"
      ]
     },
     "metadata": {},
     "output_type": "display_data"
    }
   ],
   "source": [
    "graphique = df.groupby(['Campaigns', 'MarketSize']).count()['OutletID'].unstack('MarketSize').plot(\n",
    "    kind='bar',\n",
    "    figsize=(12,5),\n",
    "    grid=True)\n",
    "\n",
    "plt.xticks(rotation = 'horizontal')\n",
    "\n",
    "graphique.set_xlabel('Campagnes')\n",
    "graphique.set_ylabel('Nombre')\n",
    "graphique.set_title('Répartition des tailles de Market par campagnes', fontsize='15')"
   ]
  },
  {
   "cell_type": "markdown",
   "id": "ca94d178-df60-424d-b97a-6409481aa51d",
   "metadata": {},
   "source": [
    "On observe cette fois-ci la répartition de l'âge des clients pour les ventes totales"
   ]
  },
  {
   "cell_type": "code",
   "execution_count": 12,
   "id": "0f05b9e4-4a8c-441d-96ae-f84d06d93a3f",
   "metadata": {},
   "outputs": [
    {
     "data": {
      "image/png": "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",
      "text/plain": [
       "<Figure size 800x600 with 1 Axes>"
      ]
     },
     "metadata": {},
     "output_type": "display_data"
    }
   ],
   "source": [
    "graph2 = df.groupby('AgeofOutlets').count()['OutletID'].plot(\n",
    "    kind='bar',\n",
    "    figsize=(8,6),\n",
    "    grid=True)\n",
    "plt.xticks(rotation = 'horizontal')\n",
    "graph2.set_ylabel('Nombre')\n",
    "graph2.set_xlabel('Âge')\n",
    "plt.show()"
   ]
  },
  {
   "cell_type": "markdown",
   "id": "d32cf260-c37f-46cb-927a-bdbf30d635ea",
   "metadata": {},
   "source": [
    "Et de façon beaucoup plus précise, on observe la répartition des différents âges des clients sur l'ensemble des 3 campagnes"
   ]
  },
  {
   "cell_type": "code",
   "execution_count": 13,
   "id": "da404ed6-69da-4b4f-9a18-6a89a4682d87",
   "metadata": {},
   "outputs": [
    {
     "data": {
      "image/png": "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",
      "text/plain": [
       "<Figure size 800x600 with 1 Axes>"
      ]
     },
     "metadata": {},
     "output_type": "display_data"
    }
   ],
   "source": [
    "graph3 = df.groupby(['AgeofOutlets', 'Campaigns']).count()['OutletID'].unstack('Campaigns').plot(\n",
    "    kind='bar',\n",
    "    figsize=(8,6),\n",
    "    grid=True)\n",
    "plt.xticks(rotation = 'horizontal')\n",
    "graph3.set_xlabel('Âge')\n",
    "graph3.set_ylabel('Nombre')\n",
    "plt.show()\n"
   ]
  },
  {
   "cell_type": "markdown",
   "id": "fcff3f42-0c52-4377-a52b-a151409106e4",
   "metadata": {},
   "source": [
    "Par observation, on peut voir que chacune des campagnes a un profil d'âge assez similaires. De l'âge 1 à 9 on a une assez bonne répartition des clients et à partir de l'âge 10 à 12, les différences se font plus présentes"
   ]
  },
  {
   "cell_type": "code",
   "execution_count": 14,
   "id": "e428abc0-ada9-4d5a-90aa-a977bac185d0",
   "metadata": {},
   "outputs": [
    {
     "data": {
      "text/html": [
       "<div>\n",
       "<style scoped>\n",
       "    .dataframe tbody tr th:only-of-type {\n",
       "        vertical-align: middle;\n",
       "    }\n",
       "\n",
       "    .dataframe tbody tr th {\n",
       "        vertical-align: top;\n",
       "    }\n",
       "\n",
       "    .dataframe thead th {\n",
       "        text-align: right;\n",
       "    }\n",
       "</style>\n",
       "<table border=\"1\" class=\"dataframe\">\n",
       "  <thead>\n",
       "    <tr style=\"text-align: right;\">\n",
       "      <th></th>\n",
       "      <th>count</th>\n",
       "      <th>mean</th>\n",
       "      <th>std</th>\n",
       "      <th>min</th>\n",
       "      <th>25%</th>\n",
       "      <th>50%</th>\n",
       "      <th>75%</th>\n",
       "      <th>max</th>\n",
       "    </tr>\n",
       "    <tr>\n",
       "      <th>Campaigns</th>\n",
       "      <th></th>\n",
       "      <th></th>\n",
       "      <th></th>\n",
       "      <th></th>\n",
       "      <th></th>\n",
       "      <th></th>\n",
       "      <th></th>\n",
       "      <th></th>\n",
       "    </tr>\n",
       "  </thead>\n",
       "  <tbody>\n",
       "    <tr>\n",
       "      <th>1</th>\n",
       "      <td>172.0</td>\n",
       "      <td>8.279070</td>\n",
       "      <td>6.636160</td>\n",
       "      <td>1.0</td>\n",
       "      <td>3.0</td>\n",
       "      <td>6.0</td>\n",
       "      <td>12.0</td>\n",
       "      <td>27.0</td>\n",
       "    </tr>\n",
       "    <tr>\n",
       "      <th>2</th>\n",
       "      <td>188.0</td>\n",
       "      <td>7.978723</td>\n",
       "      <td>6.597648</td>\n",
       "      <td>1.0</td>\n",
       "      <td>3.0</td>\n",
       "      <td>7.0</td>\n",
       "      <td>10.0</td>\n",
       "      <td>28.0</td>\n",
       "    </tr>\n",
       "    <tr>\n",
       "      <th>3</th>\n",
       "      <td>188.0</td>\n",
       "      <td>9.234043</td>\n",
       "      <td>6.651646</td>\n",
       "      <td>1.0</td>\n",
       "      <td>5.0</td>\n",
       "      <td>8.0</td>\n",
       "      <td>12.0</td>\n",
       "      <td>24.0</td>\n",
       "    </tr>\n",
       "  </tbody>\n",
       "</table>\n",
       "</div>"
      ],
      "text/plain": [
       "           count      mean       std  min  25%  50%   75%   max\n",
       "Campaigns                                                      \n",
       "1          172.0  8.279070  6.636160  1.0  3.0  6.0  12.0  27.0\n",
       "2          188.0  7.978723  6.597648  1.0  3.0  7.0  10.0  28.0\n",
       "3          188.0  9.234043  6.651646  1.0  5.0  8.0  12.0  24.0"
      ]
     },
     "execution_count": 14,
     "metadata": {},
     "output_type": "execute_result"
    }
   ],
   "source": [
    "df.groupby('Campaigns').describe()['AgeofOutlets']"
   ]
  },
  {
   "cell_type": "markdown",
   "id": "51ecedc1-177d-4f99-9572-5fac7fb79b6c",
   "metadata": {},
   "source": [
    "# A/B Testing"
   ]
  },
  {
   "cell_type": "markdown",
   "id": "8a9a57ba-c010-4ec7-bbf7-025ca9f6f211",
   "metadata": {},
   "source": [
    "Calculs préalables de l'écart type et de la moyenne pour la réalisation de l'A/B Testing\n",
    "Je vais comparer les différentes campagnes: Entre la 1 et 2, la 2 et la 3 puis la 1 et la 3.\n",
    "\n",
    "Pour la réalisation de l'A/B Testing, j'utilise le test de Student."
   ]
  },
  {
   "cell_type": "markdown",
   "id": "0475e417-8974-45c3-b358-02145f775626",
   "metadata": {},
   "source": [
    "#### Hypothèse Nulle"
   ]
  },
  {
   "cell_type": "markdown",
   "id": "f9d95521-8a5a-4d93-9874-3799c59d1904",
   "metadata": {},
   "source": [
    "Pour cela, je définis l'hypothèse nulle H0 : Il n'y a pas de différence significative"
   ]
  },
  {
   "cell_type": "markdown",
   "id": "0b8a72e2-57b1-46ac-8e84-1191747c0092",
   "metadata": {},
   "source": [
    "#### Données Utiles"
   ]
  },
  {
   "cell_type": "code",
   "execution_count": 30,
   "id": "2ad62102-2339-4bd7-8858-2dce8a316079",
   "metadata": {},
   "outputs": [
    {
     "data": {
      "text/plain": [
       "Campaigns\n",
       "1    58.099012\n",
       "2    47.329415\n",
       "3    55.364468\n",
       "Name: SalesInThousands, dtype: float64"
      ]
     },
     "execution_count": 30,
     "metadata": {},
     "output_type": "execute_result"
    }
   ],
   "source": [
    "moyenne = df.groupby('Campaigns')['SalesInThousands'].mean()\n",
    "moyenne"
   ]
  },
  {
   "cell_type": "code",
   "execution_count": 31,
   "id": "0c89d5b5-b320-4c45-995e-20fd535cc641",
   "metadata": {},
   "outputs": [
    {
     "data": {
      "text/plain": [
       "Campaigns\n",
       "1    16.553782\n",
       "2    15.108955\n",
       "3    16.766231\n",
       "Name: SalesInThousands, dtype: float64"
      ]
     },
     "execution_count": 31,
     "metadata": {},
     "output_type": "execute_result"
    }
   ],
   "source": [
    "écarttype = df.groupby('Campaigns')['SalesInThousands'].std()\n",
    "écarttype"
   ]
  },
  {
   "cell_type": "code",
   "execution_count": 33,
   "id": "e030ba6e-13c8-45a2-af40-12f1fd93a4eb",
   "metadata": {},
   "outputs": [
    {
     "data": {
      "text/plain": [
       "Campaigns\n",
       "1    172\n",
       "2    188\n",
       "3    188\n",
       "Name: SalesInThousands, dtype: int64"
      ]
     },
     "execution_count": 33,
     "metadata": {},
     "output_type": "execute_result"
    }
   ],
   "source": [
    "nombre = df.groupby('Campaigns')['SalesInThousands'].count()\n",
    "nombre"
   ]
  },
  {
   "cell_type": "markdown",
   "id": "82b5eceb-d231-4b85-b38e-699794f66907",
   "metadata": {},
   "source": [
    "### A/B Testing Campagne 1 et 2"
   ]
  },
  {
   "cell_type": "code",
   "execution_count": 36,
   "id": "a65400ea-53f0-4ea5-8ef9-24a9f8b6ba9a",
   "metadata": {},
   "outputs": [
    {
     "name": "stdout",
     "output_type": "stream",
     "text": [
      "t-value = 6.42752867090748\n",
      "p-value = 4.2903687179871785e-10\n"
     ]
    }
   ],
   "source": [
    "t, p = stats.ttest_ind(df.loc[df['Campaigns'] == 1, 'SalesInThousands'].values,\n",
    "                       df.loc[df['Campaigns'] == 2, 'SalesInThousands'].values, \n",
    "                       equal_var=False)\n",
    "print(f't-value = {str(t)}')\n",
    "print(f'p-value = {str(p)}')"
   ]
  },
  {
   "cell_type": "markdown",
   "id": "8d36e9c8-6219-4e1f-bf7d-8e1cbc938e35",
   "metadata": {},
   "source": [
    "On observe que la p-value est inférieure à 0.05 et très proche de 0.\n",
    "Cela signifie qu'on rejette donc l'hypothèse nulle, il existe ainsi une différence significatives entre les deux campagnes 1 et 2.\n",
    "\n",
    "On voit que la moyenne de la campagne 1 (58.1) est supéreiure à la moyenne de la campagne 2 (47.33), on peut conclure que la campagne 1 est bien meilleure que la campagne 2.\n",
    "L'interprétation de la t-value de 6.43 nous conforte également dans ces hypothèses, cette valeur étant assez élevée, ça renforce notre conclusion de différence significative."
   ]
  },
  {
   "cell_type": "markdown",
   "id": "4da8f560-0107-4e4b-95d2-27f929970a82",
   "metadata": {},
   "source": [
    "### A/B Testing Campagne 2 et 3"
   ]
  },
  {
   "cell_type": "code",
   "execution_count": 38,
   "id": "ac7a28e7-3a4c-46e2-8a1d-b88d98410b49",
   "metadata": {},
   "outputs": [
    {
     "name": "stdout",
     "output_type": "stream",
     "text": [
      "t-value = -4.88139271089348\n",
      "p-value = 1.5692733176039892e-06\n"
     ]
    }
   ],
   "source": [
    "t, p = stats.ttest_ind(df.loc[df['Campaigns'] == 2, 'SalesInThousands'].values,\n",
    "                       df.loc[df['Campaigns'] == 3, 'SalesInThousands'].values, \n",
    "                       equal_var=False)\n",
    "print(f't-value = {str(t)}')\n",
    "print(f'p-value = {str(p)}')"
   ]
  },
  {
   "cell_type": "markdown",
   "id": "6eda7ee4-343d-4125-a84a-f3fd17808f0e",
   "metadata": {},
   "source": [
    "On peut retomber sur la même conclusion ici, la p-value étant très proche de 0 et inférieure à 0.05, on peut rejeter l'hypothèse nulle : il y a donc une différence significative.\n",
    "En observant les moyennes des deux campagnes, la campagne numéro 3 est donc meilleure par rapport à la campagne 2. \n",
    "Et la t-value de -4.88 (supérieure à 2 ou inférieure à -2) renforce cette conclusion."
   ]
  },
  {
   "cell_type": "markdown",
   "id": "caf89333-dfbb-4bce-b1ac-987e2905d591",
   "metadata": {},
   "source": [
    "### A/B Testing Campagne 3 et 1"
   ]
  },
  {
   "cell_type": "code",
   "execution_count": 37,
   "id": "14c49027-fdf1-49a5-a6a0-9ba0bf265218",
   "metadata": {},
   "outputs": [
    {
     "name": "stdout",
     "output_type": "stream",
     "text": [
      "t-value = -1.5560224307758634\n",
      "p-value = 0.12059147742229478\n"
     ]
    }
   ],
   "source": [
    "t, p = stats.ttest_ind(df.loc[df['Campaigns'] == 3, 'SalesInThousands'].values,\n",
    "                       df.loc[df['Campaigns'] == 1, 'SalesInThousands'].values, \n",
    "                       equal_var=False)\n",
    "print(f't-value = {str(t)}')\n",
    "print(f'p-value = {str(p)}')"
   ]
  },
  {
   "cell_type": "markdown",
   "id": "7ad8ac1a-d72c-4659-a857-be519da9929a",
   "metadata": {},
   "source": [
    "Pour les campagnes 3 et 1, nous avons une p-value supérieure à 0.05, nous n'avons pas assez de preuves pour rejeter l'hypothèse nulle.\n",
    "En conclusion, il n'y a pas de différences statistiquement significative entre les deux campagnes."
   ]
  }
 ],
 "metadata": {
  "kernelspec": {
   "display_name": "Python 3 (ipykernel)",
   "language": "python",
   "name": "python3"
  },
  "language_info": {
   "codemirror_mode": {
    "name": "ipython",
    "version": 3
   },
   "file_extension": ".py",
   "mimetype": "text/x-python",
   "name": "python",
   "nbconvert_exporter": "python",
   "pygments_lexer": "ipython3",
   "version": "3.11.9"
  }
 },
 "nbformat": 4,
 "nbformat_minor": 5
}
